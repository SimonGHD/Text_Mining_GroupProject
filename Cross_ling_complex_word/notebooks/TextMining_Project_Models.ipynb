{
 "cells": [
  {
   "cell_type": "markdown",
   "metadata": {},
   "source": [
    "# Cross-lingual Complex Word Identification"
   ]
  },
  {
   "cell_type": "code",
   "execution_count": 1,
   "metadata": {},
   "outputs": [],
   "source": [
    "import os, re\n",
    "import collections\n",
    "from collections import Counter\n",
    "import pandas as pd\n",
    "import numpy as np\n",
    "from sklearn.naive_bayes import GaussianNB\n",
    "import sklearn.metrics"
   ]
  },
  {
   "cell_type": "code",
   "execution_count": 2,
   "metadata": {},
   "outputs": [
    {
     "data": {
      "text/plain": [
       "['News_Dev.tsv',\n",
       " 'News_Train.tsv',\n",
       " 'WikiNews_Dev.tsv',\n",
       " 'WikiNews_Train.tsv',\n",
       " 'Wikipedia_Dev.tsv',\n",
       " 'Wikipedia_Train.tsv']"
      ]
     },
     "execution_count": 2,
     "metadata": {},
     "output_type": "execute_result"
    }
   ],
   "source": [
    "cwd_nb = os.getcwd()\n",
    "\n",
    "cwd = os.path.dirname(cwd_nb)\n",
    "\n",
    "os.chdir(cwd)\n",
    "\n",
    "os.listdir(cwd+'/data/raw/traindevset/english')"
   ]
  },
  {
   "cell_type": "code",
   "execution_count": 3,
   "metadata": {},
   "outputs": [
    {
     "data": {
      "text/plain": [
       "'C:\\\\Users\\\\simon\\\\PycharmProjects\\\\Text_Mining_GroupProject\\\\Cross_ling_complex_word'"
      ]
     },
     "execution_count": 3,
     "metadata": {},
     "output_type": "execute_result"
    }
   ],
   "source": [
    "os.getcwd()"
   ]
  },
  {
   "cell_type": "code",
   "execution_count": 4,
   "metadata": {},
   "outputs": [],
   "source": [
    "target_dir = cwd+'/data/raw/traindevset/english/'\n",
    "file_list_dev = [target_dir+'News_Dev.tsv',target_dir+'WikiNews_Dev.tsv',target_dir+'Wikipedia_Dev.tsv']"
   ]
  },
  {
   "cell_type": "code",
   "execution_count": 5,
   "metadata": {},
   "outputs": [
    {
     "data": {
      "text/plain": [
       "['C:\\\\Users\\\\simon\\\\PycharmProjects\\\\Text_Mining_GroupProject\\\\Cross_ling_complex_word/data/raw/traindevset/english/News_Dev.tsv',\n",
       " 'C:\\\\Users\\\\simon\\\\PycharmProjects\\\\Text_Mining_GroupProject\\\\Cross_ling_complex_word/data/raw/traindevset/english/WikiNews_Dev.tsv',\n",
       " 'C:\\\\Users\\\\simon\\\\PycharmProjects\\\\Text_Mining_GroupProject\\\\Cross_ling_complex_word/data/raw/traindevset/english/Wikipedia_Dev.tsv']"
      ]
     },
     "execution_count": 5,
     "metadata": {},
     "output_type": "execute_result"
    }
   ],
   "source": [
    "file_list_dev"
   ]
  },
  {
   "cell_type": "code",
   "execution_count": 6,
   "metadata": {},
   "outputs": [],
   "source": [
    "from src.features import build_features"
   ]
  },
  {
   "cell_type": "code",
   "execution_count": 7,
   "metadata": {},
   "outputs": [],
   "source": [
    "X_dev,y_dev,w_dev,p_dev = build_features.text2feat(file_list_dev)"
   ]
  },
  {
   "cell_type": "code",
   "execution_count": 8,
   "metadata": {},
   "outputs": [
    {
     "data": {
      "text/html": [
       "<div>\n",
       "<style scoped>\n",
       "    .dataframe tbody tr th:only-of-type {\n",
       "        vertical-align: middle;\n",
       "    }\n",
       "\n",
       "    .dataframe tbody tr th {\n",
       "        vertical-align: top;\n",
       "    }\n",
       "\n",
       "    .dataframe thead th {\n",
       "        text-align: right;\n",
       "    }\n",
       "</style>\n",
       "<table border=\"1\" class=\"dataframe\">\n",
       "  <thead>\n",
       "    <tr style=\"text-align: right;\">\n",
       "      <th></th>\n",
       "      <th>freq</th>\n",
       "      <th>words_in_phrase</th>\n",
       "      <th>avg_wordlen_phrase</th>\n",
       "      <th>avg_char_length</th>\n",
       "      <th>vow_length</th>\n",
       "      <th>cons_length</th>\n",
       "    </tr>\n",
       "  </thead>\n",
       "  <tbody>\n",
       "    <tr>\n",
       "      <th>0</th>\n",
       "      <td>0.001006</td>\n",
       "      <td>22</td>\n",
       "      <td>0.924172</td>\n",
       "      <td>0.910379</td>\n",
       "      <td>2</td>\n",
       "      <td>4</td>\n",
       "    </tr>\n",
       "    <tr>\n",
       "      <th>1</th>\n",
       "      <td>0.003018</td>\n",
       "      <td>22</td>\n",
       "      <td>0.924172</td>\n",
       "      <td>0.910379</td>\n",
       "      <td>2</td>\n",
       "      <td>4</td>\n",
       "    </tr>\n",
       "    <tr>\n",
       "      <th>2</th>\n",
       "      <td>0.000335</td>\n",
       "      <td>22</td>\n",
       "      <td>0.924172</td>\n",
       "      <td>1.062109</td>\n",
       "      <td>2</td>\n",
       "      <td>5</td>\n",
       "    </tr>\n",
       "    <tr>\n",
       "      <th>3</th>\n",
       "      <td>0.000335</td>\n",
       "      <td>22</td>\n",
       "      <td>0.924172</td>\n",
       "      <td>1.213838</td>\n",
       "      <td>2</td>\n",
       "      <td>6</td>\n",
       "    </tr>\n",
       "    <tr>\n",
       "      <th>4</th>\n",
       "      <td>0.000335</td>\n",
       "      <td>22</td>\n",
       "      <td>0.924172</td>\n",
       "      <td>0.606919</td>\n",
       "      <td>1</td>\n",
       "      <td>3</td>\n",
       "    </tr>\n",
       "  </tbody>\n",
       "</table>\n",
       "</div>"
      ],
      "text/plain": [
       "       freq  words_in_phrase  avg_wordlen_phrase  avg_char_length  vow_length  \\\n",
       "0  0.001006               22            0.924172         0.910379           2   \n",
       "1  0.003018               22            0.924172         0.910379           2   \n",
       "2  0.000335               22            0.924172         1.062109           2   \n",
       "3  0.000335               22            0.924172         1.213838           2   \n",
       "4  0.000335               22            0.924172         0.606919           1   \n",
       "\n",
       "   cons_length  \n",
       "0            4  \n",
       "1            4  \n",
       "2            5  \n",
       "3            6  \n",
       "4            3  "
      ]
     },
     "execution_count": 8,
     "metadata": {},
     "output_type": "execute_result"
    }
   ],
   "source": [
    "X_dev.head()"
   ]
  },
  {
   "cell_type": "code",
   "execution_count": 9,
   "metadata": {},
   "outputs": [],
   "source": [
    "file_list_train = [target_dir+'News_Train.tsv',target_dir+'WikiNews_Train.tsv',target_dir+'Wikipedia_Train.tsv']"
   ]
  },
  {
   "cell_type": "code",
   "execution_count": 10,
   "metadata": {},
   "outputs": [],
   "source": [
    "X_train,y_train,w_train,p_train = build_features.text2feat(file_list_train)"
   ]
  },
  {
   "cell_type": "code",
   "execution_count": 11,
   "metadata": {},
   "outputs": [
    {
     "data": {
      "text/html": [
       "<div>\n",
       "<style scoped>\n",
       "    .dataframe tbody tr th:only-of-type {\n",
       "        vertical-align: middle;\n",
       "    }\n",
       "\n",
       "    .dataframe tbody tr th {\n",
       "        vertical-align: top;\n",
       "    }\n",
       "\n",
       "    .dataframe thead th {\n",
       "        text-align: right;\n",
       "    }\n",
       "</style>\n",
       "<table border=\"1\" class=\"dataframe\">\n",
       "  <thead>\n",
       "    <tr style=\"text-align: right;\">\n",
       "      <th></th>\n",
       "      <th>freq</th>\n",
       "      <th>words_in_phrase</th>\n",
       "      <th>avg_wordlen_phrase</th>\n",
       "      <th>avg_char_length</th>\n",
       "      <th>vow_length</th>\n",
       "      <th>cons_length</th>\n",
       "    </tr>\n",
       "  </thead>\n",
       "  <tbody>\n",
       "    <tr>\n",
       "      <th>0</th>\n",
       "      <td>0.000045</td>\n",
       "      <td>32</td>\n",
       "      <td>0.703895</td>\n",
       "      <td>0.900986</td>\n",
       "      <td>2</td>\n",
       "      <td>4</td>\n",
       "    </tr>\n",
       "    <tr>\n",
       "      <th>1</th>\n",
       "      <td>0.000045</td>\n",
       "      <td>32</td>\n",
       "      <td>0.703895</td>\n",
       "      <td>0.750822</td>\n",
       "      <td>2</td>\n",
       "      <td>3</td>\n",
       "    </tr>\n",
       "    <tr>\n",
       "      <th>2</th>\n",
       "      <td>0.000135</td>\n",
       "      <td>32</td>\n",
       "      <td>0.703895</td>\n",
       "      <td>1.051151</td>\n",
       "      <td>2</td>\n",
       "      <td>5</td>\n",
       "    </tr>\n",
       "    <tr>\n",
       "      <th>3</th>\n",
       "      <td>0.000045</td>\n",
       "      <td>32</td>\n",
       "      <td>0.703895</td>\n",
       "      <td>0.750822</td>\n",
       "      <td>2</td>\n",
       "      <td>3</td>\n",
       "    </tr>\n",
       "    <tr>\n",
       "      <th>4</th>\n",
       "      <td>0.000045</td>\n",
       "      <td>32</td>\n",
       "      <td>0.703895</td>\n",
       "      <td>1.201315</td>\n",
       "      <td>3</td>\n",
       "      <td>5</td>\n",
       "    </tr>\n",
       "  </tbody>\n",
       "</table>\n",
       "</div>"
      ],
      "text/plain": [
       "       freq  words_in_phrase  avg_wordlen_phrase  avg_char_length  vow_length  \\\n",
       "0  0.000045               32            0.703895         0.900986           2   \n",
       "1  0.000045               32            0.703895         0.750822           2   \n",
       "2  0.000135               32            0.703895         1.051151           2   \n",
       "3  0.000045               32            0.703895         0.750822           2   \n",
       "4  0.000045               32            0.703895         1.201315           3   \n",
       "\n",
       "   cons_length  \n",
       "0            4  \n",
       "1            3  \n",
       "2            5  \n",
       "3            3  \n",
       "4            5  "
      ]
     },
     "execution_count": 11,
     "metadata": {},
     "output_type": "execute_result"
    }
   ],
   "source": [
    "X_train.head()"
   ]
  },
  {
   "cell_type": "markdown",
   "metadata": {},
   "source": [
    "### Naive Bayes"
   ]
  },
  {
   "cell_type": "code",
   "execution_count": 12,
   "metadata": {},
   "outputs": [],
   "source": [
    "gnb = GaussianNB()"
   ]
  },
  {
   "cell_type": "code",
   "execution_count": 13,
   "metadata": {},
   "outputs": [
    {
     "data": {
      "text/plain": [
       "GaussianNB(priors=None, var_smoothing=1e-09)"
      ]
     },
     "execution_count": 13,
     "metadata": {},
     "output_type": "execute_result"
    }
   ],
   "source": [
    "gnb.fit(X_train, y_train)"
   ]
  },
  {
   "cell_type": "code",
   "execution_count": 14,
   "metadata": {},
   "outputs": [],
   "source": [
    "y_pred_bayes = gnb.predict(X_dev)"
   ]
  },
  {
   "cell_type": "code",
   "execution_count": 15,
   "metadata": {},
   "outputs": [
    {
     "data": {
      "text/plain": [
       "array([[855, 144],\n",
       "       [227, 252]], dtype=int64)"
      ]
     },
     "execution_count": 15,
     "metadata": {},
     "output_type": "execute_result"
    }
   ],
   "source": [
    "sklearn.metrics.confusion_matrix(y_dev, y_pred_bayes)"
   ]
  },
  {
   "cell_type": "code",
   "execution_count": 16,
   "metadata": {},
   "outputs": [
    {
     "data": {
      "text/plain": [
       "0.7489851150202977"
      ]
     },
     "execution_count": 16,
     "metadata": {},
     "output_type": "execute_result"
    }
   ],
   "source": [
    "sklearn.metrics.accuracy_score(y_dev,y_pred_bayes)"
   ]
  },
  {
   "cell_type": "code",
   "execution_count": 17,
   "metadata": {},
   "outputs": [],
   "source": [
    "import matplotlib.pyplot as plt\n",
    "%matplotlib inline\n",
    "\n",
    "def plot_metrics(y_dev,y_pred):\n",
    "    acc = sklearn.metrics.accuracy_score(y_dev,y_pred)\n",
    "    print('Accuracy: %2.2f' % (acc))\n",
    "\n",
    "    a = sklearn.metrics.confusion_matrix(y_dev, y_pred)\n",
    "    print('Confusion matrix:')\n",
    "    print(a)\n",
    "    \n",
    "   # fig, ax = plt.subplots()\n",
    "   # im = ax.imshow(a)\n",
    "\n",
    "    # Loop over data dimensions and create text annotations.\n",
    "   # for i in range(2):\n",
    "   #     for j in range(2):\n",
    "   #         text = ax.text(j, i, a[i, j],ha=\"center\", va=\"center\", color=\"w\")\n",
    "   # return acc        \n",
    "\n",
    "\n"
   ]
  },
  {
   "cell_type": "code",
   "execution_count": 18,
   "metadata": {},
   "outputs": [
    {
     "name": "stdout",
     "output_type": "stream",
     "text": [
      "Accuracy: 0.75\n",
      "Confusion matrix:\n",
      "[[855 144]\n",
      " [227 252]]\n"
     ]
    }
   ],
   "source": [
    "_ = plot_metrics(y_dev, y_pred_bayes)"
   ]
  },
  {
   "cell_type": "markdown",
   "metadata": {},
   "source": [
    "### Decision Tree"
   ]
  },
  {
   "cell_type": "code",
   "execution_count": 19,
   "metadata": {},
   "outputs": [
    {
     "name": "stdout",
     "output_type": "stream",
     "text": [
      "Accuracy: 0.74\n",
      "Confusion matrix:\n",
      "[[926  73]\n",
      " [316 163]]\n"
     ]
    }
   ],
   "source": [
    "from sklearn import tree\n",
    "\n",
    "clf_tree = tree.DecisionTreeClassifier(max_depth=5,min_samples_split=5)\n",
    "clf_tree = clf_tree.fit(X_train, y_train)\n",
    "y_pred_tree = clf_tree.predict(X_dev)\n",
    "plot_metrics(y_dev,y_pred_tree)"
   ]
  },
  {
   "cell_type": "code",
   "execution_count": 20,
   "metadata": {},
   "outputs": [],
   "source": [
    "import graphviz \n",
    "feature_names=X_train.columns\n",
    "dot_data = tree.export_graphviz(clf_tree, out_file=None, \n",
    "                         feature_names=feature_names,  \n",
    "                         class_names=['Not Complex','Complex'],       \n",
    "                         filled=True, rounded=True,  \n",
    "                         special_characters=True)  \n",
    "#graph = graphviz.Source(dot_data)  \n",
    "#graph\n"
   ]
  },
  {
   "cell_type": "markdown",
   "metadata": {},
   "source": [
    "### Gradient Tree Boosting"
   ]
  },
  {
   "cell_type": "code",
   "execution_count": 21,
   "metadata": {},
   "outputs": [
    {
     "data": {
      "text/plain": [
       "0.7462787550744249"
      ]
     },
     "execution_count": 21,
     "metadata": {},
     "output_type": "execute_result"
    }
   ],
   "source": [
    "from sklearn.ensemble import GradientBoostingClassifier\n",
    "\n",
    "\n",
    "clf = GradientBoostingClassifier(n_estimators=100, learning_rate=1.0, \\\n",
    "                                 max_depth=1, random_state=0)\n",
    "\n",
    "clf.fit(X_train,y_train)\n",
    "clf.score(X_dev, y_dev)  "
   ]
  },
  {
   "cell_type": "code",
   "execution_count": 22,
   "metadata": {},
   "outputs": [],
   "source": [
    "y_pred_boost = clf.predict(X_dev)"
   ]
  },
  {
   "cell_type": "code",
   "execution_count": 23,
   "metadata": {},
   "outputs": [
    {
     "name": "stdout",
     "output_type": "stream",
     "text": [
      "Accuracy: 0.75\n",
      "Confusion matrix:\n",
      "[[924  75]\n",
      " [300 179]]\n"
     ]
    }
   ],
   "source": [
    "plot_metrics(y_dev,y_pred_boost)"
   ]
  },
  {
   "cell_type": "code",
   "execution_count": 24,
   "metadata": {},
   "outputs": [
    {
     "data": {
      "text/plain": [
       "array([0.35109134, 0.01444004, 0.00871042, 0.58685081, 0.0355468 ,\n",
       "       0.00336058])"
      ]
     },
     "execution_count": 24,
     "metadata": {},
     "output_type": "execute_result"
    }
   ],
   "source": [
    "clf.feature_importances_"
   ]
  },
  {
   "cell_type": "code",
   "execution_count": 25,
   "metadata": {},
   "outputs": [
    {
     "data": {
      "image/png": "[encoded data removed]",
      "text/plain": [
       "<Figure size 720x576 with 1 Axes>"
      ]
     },
     "metadata": {
      "needs_background": "light"
     },
     "output_type": "display_data"
    }
   ],
   "source": [
    "fi = clf.feature_importances_\n",
    "fig, ax = plt.subplots(figsize=(10, 8))\n",
    "plt.bar(range(len(fi)),height=fi, width=0.1)\n",
    "plt.xticks(range(len(fi)),X_train.columns,rotation=45)\n",
    "plt.title('Feature importances in Gradient Tree Boosting')\n",
    "fig.savefig('FeatureImportance.png')"
   ]
  },
  {
   "cell_type": "code",
   "execution_count": 26,
   "metadata": {},
   "outputs": [
    {
     "data": {
      "text/plain": [
       "Index(['freq', 'words_in_phrase', 'avg_wordlen_phrase', 'avg_char_length',\n",
       "       'vow_length', 'cons_length'],\n",
       "      dtype='object')"
      ]
     },
     "execution_count": 26,
     "metadata": {},
     "output_type": "execute_result"
    }
   ],
   "source": [
    "X_train.columns"
   ]
  },
  {
   "cell_type": "code",
   "execution_count": 27,
   "metadata": {},
   "outputs": [
    {
     "data": {
      "text/html": [
       "<div>\n",
       "<style scoped>\n",
       "    .dataframe tbody tr th:only-of-type {\n",
       "        vertical-align: middle;\n",
       "    }\n",
       "\n",
       "    .dataframe tbody tr th {\n",
       "        vertical-align: top;\n",
       "    }\n",
       "\n",
       "    .dataframe thead th {\n",
       "        text-align: right;\n",
       "    }\n",
       "</style>\n",
       "<table border=\"1\" class=\"dataframe\">\n",
       "  <thead>\n",
       "    <tr style=\"text-align: right;\">\n",
       "      <th></th>\n",
       "      <th>freq</th>\n",
       "      <th>words_in_phrase</th>\n",
       "      <th>avg_wordlen_phrase</th>\n",
       "      <th>avg_char_length</th>\n",
       "      <th>vow_length</th>\n",
       "      <th>cons_length</th>\n",
       "    </tr>\n",
       "  </thead>\n",
       "  <tbody>\n",
       "    <tr>\n",
       "      <th>0</th>\n",
       "      <td>0.000045</td>\n",
       "      <td>32</td>\n",
       "      <td>0.703895</td>\n",
       "      <td>0.900986</td>\n",
       "      <td>2</td>\n",
       "      <td>4</td>\n",
       "    </tr>\n",
       "    <tr>\n",
       "      <th>1</th>\n",
       "      <td>0.000045</td>\n",
       "      <td>32</td>\n",
       "      <td>0.703895</td>\n",
       "      <td>0.750822</td>\n",
       "      <td>2</td>\n",
       "      <td>3</td>\n",
       "    </tr>\n",
       "    <tr>\n",
       "      <th>2</th>\n",
       "      <td>0.000135</td>\n",
       "      <td>32</td>\n",
       "      <td>0.703895</td>\n",
       "      <td>1.051151</td>\n",
       "      <td>2</td>\n",
       "      <td>5</td>\n",
       "    </tr>\n",
       "    <tr>\n",
       "      <th>3</th>\n",
       "      <td>0.000045</td>\n",
       "      <td>32</td>\n",
       "      <td>0.703895</td>\n",
       "      <td>0.750822</td>\n",
       "      <td>2</td>\n",
       "      <td>3</td>\n",
       "    </tr>\n",
       "    <tr>\n",
       "      <th>4</th>\n",
       "      <td>0.000045</td>\n",
       "      <td>32</td>\n",
       "      <td>0.703895</td>\n",
       "      <td>1.201315</td>\n",
       "      <td>3</td>\n",
       "      <td>5</td>\n",
       "    </tr>\n",
       "  </tbody>\n",
       "</table>\n",
       "</div>"
      ],
      "text/plain": [
       "       freq  words_in_phrase  avg_wordlen_phrase  avg_char_length  vow_length  \\\n",
       "0  0.000045               32            0.703895         0.900986           2   \n",
       "1  0.000045               32            0.703895         0.750822           2   \n",
       "2  0.000135               32            0.703895         1.051151           2   \n",
       "3  0.000045               32            0.703895         0.750822           2   \n",
       "4  0.000045               32            0.703895         1.201315           3   \n",
       "\n",
       "   cons_length  \n",
       "0            4  \n",
       "1            3  \n",
       "2            5  \n",
       "3            3  \n",
       "4            5  "
      ]
     },
     "execution_count": 27,
     "metadata": {},
     "output_type": "execute_result"
    }
   ],
   "source": [
    "X_train.head()"
   ]
  },
  {
   "cell_type": "markdown",
   "metadata": {},
   "source": [
    "### Support Vector Machines"
   ]
  },
  {
   "cell_type": "code",
   "execution_count": 28,
   "metadata": {},
   "outputs": [
    {
     "data": {
      "text/plain": [
       "SVC(C=10, break_ties=False, cache_size=200, class_weight=None, coef0=0.0,\n",
       "    decision_function_shape='ovr', degree=3, gamma=0.01, kernel='rbf',\n",
       "    max_iter=-1, probability=False, random_state=None, shrinking=True,\n",
       "    tol=0.001, verbose=False)"
      ]
     },
     "execution_count": 28,
     "metadata": {},
     "output_type": "execute_result"
    }
   ],
   "source": [
    "from sklearn import svm\n",
    "\n",
    "clf = svm.SVC(gamma=0.01,C=10)\n",
    "clf.fit(X_train,y_train)"
   ]
  },
  {
   "cell_type": "code",
   "execution_count": 29,
   "metadata": {},
   "outputs": [],
   "source": [
    "y_pred_svm = clf.predict(X_dev)"
   ]
  },
  {
   "cell_type": "code",
   "execution_count": 30,
   "metadata": {},
   "outputs": [
    {
     "name": "stdout",
     "output_type": "stream",
     "text": [
      "Accuracy: 0.73\n",
      "Confusion matrix:\n",
      "[[960  39]\n",
      " [367 112]]\n"
     ]
    }
   ],
   "source": [
    "plot_metrics(y_dev,y_pred_svm)"
   ]
  },
  {
   "cell_type": "code",
   "execution_count": 31,
   "metadata": {},
   "outputs": [],
   "source": [
    "from sklearn import svm\n",
    "from sklearn.model_selection import GridSearchCV\n",
    "def svc_param_selection(X, y, nfolds):\n",
    "    Cs = [0.001, 0.01, 0.1, 1, 10]\n",
    "    gammas = [0.001, 0.01, 0.1, 1]\n",
    "    param_grid = {'C': Cs, 'gamma' : gammas}\n",
    "    grid_search = GridSearchCV(svm.SVC(kernel='rbf'), param_grid, cv=nfolds)\n",
    "    grid_search.fit(X, y)\n",
    "    grid_search.best_params_\n",
    "    return grid_search.best_params_"
   ]
  },
  {
   "cell_type": "code",
   "execution_count": 32,
   "metadata": {},
   "outputs": [],
   "source": [
    "p = svc_param_selection(X_train, y_train, 5)"
   ]
  },
  {
   "cell_type": "code",
   "execution_count": 33,
   "metadata": {},
   "outputs": [
    {
     "data": {
      "text/plain": [
       "{'C': 1, 'gamma': 0.1}"
      ]
     },
     "execution_count": 33,
     "metadata": {},
     "output_type": "execute_result"
    }
   ],
   "source": [
    "p"
   ]
  },
  {
   "cell_type": "code",
   "execution_count": 34,
   "metadata": {},
   "outputs": [
    {
     "name": "stdout",
     "output_type": "stream",
     "text": [
      "Accuracy: 0.73\n",
      "Confusion matrix:\n",
      "[[946  53]\n",
      " [348 131]]\n"
     ]
    }
   ],
   "source": [
    "clf_new = svm.SVC(gamma=0.1,C=1)\n",
    "clf_new.fit(X_train,y_train)\n",
    "y_pred_svm_new = clf_new.predict(X_dev)\n",
    "plot_metrics(y_dev,y_pred_svm_new)"
   ]
  },
  {
   "cell_type": "markdown",
   "metadata": {},
   "source": [
    "## German Testset"
   ]
  },
  {
   "cell_type": "code",
   "execution_count": 40,
   "metadata": {},
   "outputs": [],
   "source": [
    "#ger_dir = './traindevset/german/'\n",
    "ger_dir = cwd+'/data/raw/traindevset/german/'\n",
    "file_list_dev_ger = [ger_dir+'German_Dev.tsv',]"
   ]
  },
  {
   "cell_type": "code",
   "execution_count": 41,
   "metadata": {},
   "outputs": [
    {
     "data": {
      "text/plain": [
       "['C:\\\\Users\\\\simon\\\\PycharmProjects\\\\Text_Mining_GroupProject\\\\Cross_ling_complex_word/data/raw/traindevset/german/German_Dev.tsv']"
      ]
     },
     "execution_count": 41,
     "metadata": {},
     "output_type": "execute_result"
    }
   ],
   "source": [
    "file_list_dev_ger"
   ]
  },
  {
   "cell_type": "code",
   "execution_count": 42,
   "metadata": {},
   "outputs": [],
   "source": [
    "X_dev_ger,y_dev_ger,w_dev_ger,p_dev_ger = build_features.text2feat(file_list_dev_ger)"
   ]
  },
  {
   "cell_type": "code",
   "execution_count": 43,
   "metadata": {},
   "outputs": [
    {
     "data": {
      "text/html": [
       "<div>\n",
       "<style scoped>\n",
       "    .dataframe tbody tr th:only-of-type {\n",
       "        vertical-align: middle;\n",
       "    }\n",
       "\n",
       "    .dataframe tbody tr th {\n",
       "        vertical-align: top;\n",
       "    }\n",
       "\n",
       "    .dataframe thead th {\n",
       "        text-align: right;\n",
       "    }\n",
       "</style>\n",
       "<table border=\"1\" class=\"dataframe\">\n",
       "  <thead>\n",
       "    <tr style=\"text-align: right;\">\n",
       "      <th></th>\n",
       "      <th>freq</th>\n",
       "      <th>words_in_phrase</th>\n",
       "      <th>avg_wordlen_phrase</th>\n",
       "      <th>avg_char_length</th>\n",
       "      <th>vow_length</th>\n",
       "      <th>cons_length</th>\n",
       "    </tr>\n",
       "  </thead>\n",
       "  <tbody>\n",
       "    <tr>\n",
       "      <th>0</th>\n",
       "      <td>0.000589</td>\n",
       "      <td>14</td>\n",
       "      <td>0.55127</td>\n",
       "      <td>1.403234</td>\n",
       "      <td>3</td>\n",
       "      <td>9</td>\n",
       "    </tr>\n",
       "    <tr>\n",
       "      <th>1</th>\n",
       "      <td>0.001177</td>\n",
       "      <td>14</td>\n",
       "      <td>0.55127</td>\n",
       "      <td>1.052425</td>\n",
       "      <td>3</td>\n",
       "      <td>6</td>\n",
       "    </tr>\n",
       "    <tr>\n",
       "      <th>2</th>\n",
       "      <td>0.001177</td>\n",
       "      <td>14</td>\n",
       "      <td>0.55127</td>\n",
       "      <td>0.584681</td>\n",
       "      <td>2</td>\n",
       "      <td>3</td>\n",
       "    </tr>\n",
       "    <tr>\n",
       "      <th>3</th>\n",
       "      <td>0.000589</td>\n",
       "      <td>14</td>\n",
       "      <td>0.55127</td>\n",
       "      <td>0.350808</td>\n",
       "      <td>1</td>\n",
       "      <td>2</td>\n",
       "    </tr>\n",
       "    <tr>\n",
       "      <th>4</th>\n",
       "      <td>0.001177</td>\n",
       "      <td>14</td>\n",
       "      <td>0.55127</td>\n",
       "      <td>0.818553</td>\n",
       "      <td>1</td>\n",
       "      <td>6</td>\n",
       "    </tr>\n",
       "  </tbody>\n",
       "</table>\n",
       "</div>"
      ],
      "text/plain": [
       "       freq  words_in_phrase  avg_wordlen_phrase  avg_char_length  vow_length  \\\n",
       "0  0.000589               14             0.55127         1.403234           3   \n",
       "1  0.001177               14             0.55127         1.052425           3   \n",
       "2  0.001177               14             0.55127         0.584681           2   \n",
       "3  0.000589               14             0.55127         0.350808           1   \n",
       "4  0.001177               14             0.55127         0.818553           1   \n",
       "\n",
       "   cons_length  \n",
       "0            9  \n",
       "1            6  \n",
       "2            3  \n",
       "3            2  \n",
       "4            6  "
      ]
     },
     "execution_count": 43,
     "metadata": {},
     "output_type": "execute_result"
    }
   ],
   "source": [
    "X_dev_ger.head()"
   ]
  },
  {
   "cell_type": "code",
   "execution_count": 44,
   "metadata": {},
   "outputs": [
    {
     "data": {
      "text/plain": [
       "0    Unterhändler\n",
       "1       Konferenz\n",
       "2           sagte\n",
       "3             Weg\n",
       "4         gewählt\n",
       "Name: complexPhrase, dtype: object"
      ]
     },
     "execution_count": 44,
     "metadata": {},
     "output_type": "execute_result"
    }
   ],
   "source": [
    "w_dev_ger.head()"
   ]
  },
  {
   "cell_type": "code",
   "execution_count": 45,
   "metadata": {},
   "outputs": [],
   "source": [
    "y_pred_bayes_ger = gnb.predict(X_dev_ger)"
   ]
  },
  {
   "cell_type": "code",
   "execution_count": 46,
   "metadata": {},
   "outputs": [
    {
     "name": "stdout",
     "output_type": "stream",
     "text": [
      "Accuracy: 0.77\n",
      "Confusion matrix:\n",
      "[[361  96]\n",
      " [ 69 190]]\n"
     ]
    }
   ],
   "source": [
    "plot_metrics(y_dev_ger, y_pred_bayes_ger)"
   ]
  },
  {
   "cell_type": "markdown",
   "metadata": {},
   "source": [
    "## Spanish "
   ]
  },
  {
   "cell_type": "code",
   "execution_count": 47,
   "metadata": {},
   "outputs": [],
   "source": [
    "sp_dir = cwd+'/data/raw/traindevset/spanish/'\n",
    "file_list_dev_sp = [sp_dir+'Spanish_Dev.tsv',]"
   ]
  },
  {
   "cell_type": "code",
   "execution_count": 50,
   "metadata": {},
   "outputs": [],
   "source": [
    "X_dev_sp,y_dev_sp,w_dev_sp,p_dev_sp = build_features.text2feat(file_list_dev_sp)"
   ]
  },
  {
   "cell_type": "code",
   "execution_count": 51,
   "metadata": {},
   "outputs": [],
   "source": [
    "y_pred_bayes_sp = gnb.predict(X_dev_sp)"
   ]
  },
  {
   "cell_type": "code",
   "execution_count": 52,
   "metadata": {},
   "outputs": [
    {
     "name": "stdout",
     "output_type": "stream",
     "text": [
      "Accuracy: 0.67\n",
      "Confusion matrix:\n",
      "[[682 287]\n",
      " [171 265]]\n"
     ]
    }
   ],
   "source": [
    "plot_metrics(y_dev_sp,y_pred_bayes_sp)"
   ]
  },
  {
   "cell_type": "markdown",
   "metadata": {},
   "source": [
    "## French"
   ]
  },
  {
   "cell_type": "code",
   "execution_count": 59,
   "metadata": {},
   "outputs": [
    {
     "data": {
      "text/plain": [
       "['C:\\\\Users\\\\simon\\\\PycharmProjects\\\\Text_Mining_GroupProject\\\\Cross_ling_complex_word/data/raw/traindevset/french/French_Test.tsv']"
      ]
     },
     "execution_count": 59,
     "metadata": {},
     "output_type": "execute_result"
    }
   ],
   "source": [
    "fr_dir = cwd+'/data/raw/traindevset/french/'\n",
    "file_list_test_fr = [fr_dir+'French_Test.tsv',]\n",
    "file_list_test_fr"
   ]
  },
  {
   "cell_type": "code",
   "execution_count": 60,
   "metadata": {},
   "outputs": [],
   "source": [
    "X_test_fr,y_test_fr,w_test_fr,p_test_fr = build_features.text2feat(file_list_test_fr)"
   ]
  },
  {
   "cell_type": "code",
   "execution_count": 61,
   "metadata": {},
   "outputs": [
    {
     "name": "stdout",
     "output_type": "stream",
     "text": [
      "Accuracy: 0.67\n",
      "Confusion matrix:\n",
      "[[1094  500]\n",
      " [ 164  250]]\n"
     ]
    }
   ],
   "source": [
    "y_pred_bayes_fr = gnb.predict(X_test_fr)\n",
    "plot_metrics(y_test_fr,y_pred_bayes_fr)"
   ]
  },
  {
   "cell_type": "markdown",
   "metadata": {},
   "source": [
    "## Plots"
   ]
  },
  {
   "cell_type": "code",
   "execution_count": 62,
   "metadata": {},
   "outputs": [
    {
     "data": {
      "text/html": [
       "<div>\n",
       "<style scoped>\n",
       "    .dataframe tbody tr th:only-of-type {\n",
       "        vertical-align: middle;\n",
       "    }\n",
       "\n",
       "    .dataframe tbody tr th {\n",
       "        vertical-align: top;\n",
       "    }\n",
       "\n",
       "    .dataframe thead th {\n",
       "        text-align: right;\n",
       "    }\n",
       "</style>\n",
       "<table border=\"1\" class=\"dataframe\">\n",
       "  <thead>\n",
       "    <tr style=\"text-align: right;\">\n",
       "      <th></th>\n",
       "      <th>freq</th>\n",
       "      <th>words_in_phrase</th>\n",
       "      <th>avg_wordlen_phrase</th>\n",
       "      <th>avg_char_length</th>\n",
       "      <th>vow_length</th>\n",
       "      <th>cons_length</th>\n",
       "    </tr>\n",
       "  </thead>\n",
       "  <tbody>\n",
       "    <tr>\n",
       "      <th>0</th>\n",
       "      <td>0.000045</td>\n",
       "      <td>32</td>\n",
       "      <td>0.703895</td>\n",
       "      <td>0.900986</td>\n",
       "      <td>2</td>\n",
       "      <td>4</td>\n",
       "    </tr>\n",
       "    <tr>\n",
       "      <th>1</th>\n",
       "      <td>0.000045</td>\n",
       "      <td>32</td>\n",
       "      <td>0.703895</td>\n",
       "      <td>0.750822</td>\n",
       "      <td>2</td>\n",
       "      <td>3</td>\n",
       "    </tr>\n",
       "    <tr>\n",
       "      <th>2</th>\n",
       "      <td>0.000135</td>\n",
       "      <td>32</td>\n",
       "      <td>0.703895</td>\n",
       "      <td>1.051151</td>\n",
       "      <td>2</td>\n",
       "      <td>5</td>\n",
       "    </tr>\n",
       "    <tr>\n",
       "      <th>3</th>\n",
       "      <td>0.000045</td>\n",
       "      <td>32</td>\n",
       "      <td>0.703895</td>\n",
       "      <td>0.750822</td>\n",
       "      <td>2</td>\n",
       "      <td>3</td>\n",
       "    </tr>\n",
       "    <tr>\n",
       "      <th>4</th>\n",
       "      <td>0.000045</td>\n",
       "      <td>32</td>\n",
       "      <td>0.703895</td>\n",
       "      <td>1.201315</td>\n",
       "      <td>3</td>\n",
       "      <td>5</td>\n",
       "    </tr>\n",
       "  </tbody>\n",
       "</table>\n",
       "</div>"
      ],
      "text/plain": [
       "       freq  words_in_phrase  avg_wordlen_phrase  avg_char_length  vow_length  \\\n",
       "0  0.000045               32            0.703895         0.900986           2   \n",
       "1  0.000045               32            0.703895         0.750822           2   \n",
       "2  0.000135               32            0.703895         1.051151           2   \n",
       "3  0.000045               32            0.703895         0.750822           2   \n",
       "4  0.000045               32            0.703895         1.201315           3   \n",
       "\n",
       "   cons_length  \n",
       "0            4  \n",
       "1            3  \n",
       "2            5  \n",
       "3            3  \n",
       "4            5  "
      ]
     },
     "execution_count": 62,
     "metadata": {},
     "output_type": "execute_result"
    }
   ],
   "source": [
    "X_train.head()"
   ]
  },
  {
   "cell_type": "code",
   "execution_count": 63,
   "metadata": {
    "scrolled": true
   },
   "outputs": [
    {
     "data": {
      "image/png": "[encoded data removed]",
      "text/plain": [
       "<Figure size 720x576 with 1 Axes>"
      ]
     },
     "metadata": {
      "needs_background": "light"
     },
     "output_type": "display_data"
    }
   ],
   "source": [
    "fig, ax = plt.subplots(figsize=(10, 8))\n",
    "\n",
    "x0 = X_train.loc[y_train==0,'avg_char_length']\n",
    "y0 = X_train.loc[y_train==0,'freq']\n",
    "plt.scatter(x0,y0,s=20,alpha=0.3,c='k')\n",
    "\n",
    "x1 = X_train.loc[y_train==1,'avg_char_length']\n",
    "y1 = X_train.loc[y_train==1,'freq']\n",
    "plt.scatter(x1,y1,s=20,alpha=0.3,c='red')\n",
    "plt.xlabel('Normalized word length')\n",
    "plt.ylabel('Word Frequency')\n",
    "plt.ylim((0,0.005))\n",
    "plt.title('Complex (red) and not complex (black) word features')\n",
    "fig.savefig('WordFrequencyOverWordLength.png')"
   ]
  },
  {
   "cell_type": "code",
   "execution_count": null,
   "metadata": {},
   "outputs": [],
   "source": [
    "#w_train[y_train==1]"
   ]
  },
  {
   "cell_type": "code",
   "execution_count": 64,
   "metadata": {},
   "outputs": [
    {
     "data": {
      "image/png": "[encoded data removed]",
      "text/plain": [
       "<Figure size 720x576 with 1 Axes>"
      ]
     },
     "metadata": {
      "needs_background": "light"
     },
     "output_type": "display_data"
    }
   ],
   "source": [
    "fig, ax = plt.subplots(figsize=(10, 8))\n",
    "\n",
    "\n",
    "x1 = p_train.loc[y_train==1]\n",
    "y1 = X_train.loc[y_train==1,'freq']\n",
    "\n",
    "plt.scatter(x1,y1,s=20)\n",
    "plt.xlabel('Probability')\n",
    "plt.ylabel('Word Frequency')\n",
    "plt.ylim((0,0.0035))\n",
    "plt.title('Word Frequency over the Probability to be complex')\n",
    "fig.savefig('WordFrequencyOverProbability.png')"
   ]
  },
  {
   "cell_type": "markdown",
   "metadata": {},
   "source": [
    "### Model Performance"
   ]
  },
  {
   "cell_type": "code",
   "execution_count": 65,
   "metadata": {},
   "outputs": [
    {
     "data": {
      "image/png": "[encoded data removed]",
      "text/plain": [
       "<Figure size 720x432 with 1 Axes>"
      ]
     },
     "metadata": {
      "needs_background": "light"
     },
     "output_type": "display_data"
    }
   ],
   "source": [
    "xlabels = ['Naive Bayes','Decision Tree','Gradient Boost','SVM']\n",
    "y_all = [0.75, 0.74, 0.746, 0.73]\n",
    "y = [0.76, 0.73, 0.75, 0.72]\n",
    "x = np.array(range(len(y)))\n",
    "fig, ax = plt.subplots(figsize=(10, 6))\n",
    "plt.bar(x-0.1,height=y_all, width=0.2)\n",
    "plt.bar(x+0.1,height=y, width=0.2)\n",
    "plt.xticks(range(len(y)),xlabels,rotation=45)\n",
    "plt.ylabel('Accuracy')\n",
    "plt.title('Model Performance on English Text')\n",
    "plt.legend(['6 features','3 features'],loc='upper right')\n",
    "plt.ylim((0,1))\n",
    "fig.savefig('ModelComparison.png')"
   ]
  },
  {
   "cell_type": "markdown",
   "metadata": {},
   "source": [
    "### Naive Bayes for different languages"
   ]
  },
  {
   "cell_type": "code",
   "execution_count": 66,
   "metadata": {},
   "outputs": [
    {
     "data": {
      "image/png": "[encoded data removed]",
      "text/plain": [
       "<Figure size 720x432 with 1 Axes>"
      ]
     },
     "metadata": {
      "needs_background": "light"
     },
     "output_type": "display_data"
    }
   ],
   "source": [
    "xlabels = ['English','German','Spanish','French']\n",
    "y_all = [0.75, 0.77, 0.67, 0.67]\n",
    "y = [0.76, 0.79, 0.72, 0.72]\n",
    "x = np.array(range(len(y)))\n",
    "fig, ax = plt.subplots(figsize=(10, 6))\n",
    "plt.bar(x-0.1,height=y_all, width=0.2)\n",
    "plt.bar(x+0.1,height=y, width=0.2)\n",
    "plt.xticks(range(len(y)),xlabels,rotation=45)\n",
    "plt.ylabel('Accuracy')\n",
    "plt.title('Naive Bayes Model Performance Cross-Lingual')\n",
    "plt.legend(['6 features','3 features'],loc='upper right')\n",
    "plt.ylim((0,1))\n",
    "fig.savefig('Cross-LanguageComparison.png')"
   ]
  },
  {
   "cell_type": "code",
   "execution_count": null,
   "metadata": {},
   "outputs": [],
   "source": []
  }
 ],
 "metadata": {
  "kernelspec": {
   "display_name": "Python 3",
   "language": "python",
   "name": "python3"
  },
  "language_info": {
   "codemirror_mode": {
    "name": "ipython",
    "version": 3
   },
   "file_extension": ".py",
   "mimetype": "text/x-python",
   "name": "python",
   "nbconvert_exporter": "python",
   "pygments_lexer": "ipython3",
   "version": "3.7.5"
  }
 },
 "nbformat": 4,
 "nbformat_minor": 2
}
